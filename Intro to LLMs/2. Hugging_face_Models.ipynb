{
  "nbformat": 4,
  "nbformat_minor": 0,
  "metadata": {
    "colab": {
      "provenance": []
    },
    "kernelspec": {
      "name": "python3",
      "display_name": "Python 3"
    },
    "language_info": {
      "name": "python"
    }
  },
  "cells": [
    {
      "cell_type": "markdown",
      "source": [
        "## Task 1: Sentiment Analysis"
      ],
      "metadata": {
        "id": "zjuwkbvYTzMJ"
      }
    },
    {
      "cell_type": "code",
      "execution_count": 26,
      "metadata": {
        "colab": {
          "base_uri": "https://localhost:8080/"
        },
        "id": "FX9C7jy4TkxT",
        "outputId": "fa672093-2f64-49d2-edf1-435f4476a8a8"
      },
      "outputs": [
        {
          "output_type": "stream",
          "name": "stdout",
          "text": [
            "Requirement already satisfied: transformers in /usr/local/lib/python3.10/dist-packages (4.38.2)\n",
            "Requirement already satisfied: filelock in /usr/local/lib/python3.10/dist-packages (from transformers) (3.13.4)\n",
            "Requirement already satisfied: huggingface-hub<1.0,>=0.19.3 in /usr/local/lib/python3.10/dist-packages (from transformers) (0.20.3)\n",
            "Requirement already satisfied: numpy>=1.17 in /usr/local/lib/python3.10/dist-packages (from transformers) (1.25.2)\n",
            "Requirement already satisfied: packaging>=20.0 in /usr/local/lib/python3.10/dist-packages (from transformers) (24.0)\n",
            "Requirement already satisfied: pyyaml>=5.1 in /usr/local/lib/python3.10/dist-packages (from transformers) (6.0.1)\n",
            "Requirement already satisfied: regex!=2019.12.17 in /usr/local/lib/python3.10/dist-packages (from transformers) (2023.12.25)\n",
            "Requirement already satisfied: requests in /usr/local/lib/python3.10/dist-packages (from transformers) (2.31.0)\n",
            "Requirement already satisfied: tokenizers<0.19,>=0.14 in /usr/local/lib/python3.10/dist-packages (from transformers) (0.15.2)\n",
            "Requirement already satisfied: safetensors>=0.4.1 in /usr/local/lib/python3.10/dist-packages (from transformers) (0.4.2)\n",
            "Requirement already satisfied: tqdm>=4.27 in /usr/local/lib/python3.10/dist-packages (from transformers) (4.66.2)\n",
            "Requirement already satisfied: fsspec>=2023.5.0 in /usr/local/lib/python3.10/dist-packages (from huggingface-hub<1.0,>=0.19.3->transformers) (2023.6.0)\n",
            "Requirement already satisfied: typing-extensions>=3.7.4.3 in /usr/local/lib/python3.10/dist-packages (from huggingface-hub<1.0,>=0.19.3->transformers) (4.11.0)\n",
            "Requirement already satisfied: charset-normalizer<4,>=2 in /usr/local/lib/python3.10/dist-packages (from requests->transformers) (3.3.2)\n",
            "Requirement already satisfied: idna<4,>=2.5 in /usr/local/lib/python3.10/dist-packages (from requests->transformers) (3.6)\n",
            "Requirement already satisfied: urllib3<3,>=1.21.1 in /usr/local/lib/python3.10/dist-packages (from requests->transformers) (2.0.7)\n",
            "Requirement already satisfied: certifi>=2017.4.17 in /usr/local/lib/python3.10/dist-packages (from requests->transformers) (2024.2.2)\n"
          ]
        }
      ],
      "source": [
        "!pip install transformers\n",
        "from transformers import pipeline"
      ]
    },
    {
      "cell_type": "markdown",
      "source": [
        "The **pipeline()** method in the Transformers library is used to create a simple pipeline for executing a sequence of tasks. First you need to specify the task and then the model you want to use. When you call pipeline() with these parameters, it creates a pipeline object that you can use to analyze text and perform sentiment analysis using the specified model."
      ],
      "metadata": {
        "id": "eLElbUByT6Eg"
      }
    },
    {
      "cell_type": "code",
      "source": [
        "clf = pipeline(task='sentiment-analysis', model='distilbert-base-uncased-finetuned-sst-2-english')"
      ],
      "metadata": {
        "id": "ezQktMQYT4dm"
      },
      "execution_count": 27,
      "outputs": []
    },
    {
      "cell_type": "code",
      "source": [
        "clf('I hate you!!')"
      ],
      "metadata": {
        "colab": {
          "base_uri": "https://localhost:8080/"
        },
        "id": "ifGRSqRiT8G4",
        "outputId": "8bdbe5df-0fc1-49d7-fec6-6a847eb8218f"
      },
      "execution_count": 28,
      "outputs": [
        {
          "output_type": "execute_result",
          "data": {
            "text/plain": [
              "[{'label': 'NEGATIVE', 'score': 0.9982110261917114}]"
            ]
          },
          "metadata": {},
          "execution_count": 28
        }
      ]
    },
    {
      "cell_type": "markdown",
      "source": [
        "### Multiple Targets"
      ],
      "metadata": {
        "id": "W4NcCFXzUGL0"
      }
    },
    {
      "cell_type": "code",
      "source": [
        "clf = pipeline(task='text-classification', model='SamLowe/roberta-base-go_emotions', top_k=None)"
      ],
      "metadata": {
        "id": "uYT_UmArT9ZI"
      },
      "execution_count": 29,
      "outputs": []
    },
    {
      "cell_type": "code",
      "source": [
        "clf('I hate you!!')"
      ],
      "metadata": {
        "colab": {
          "base_uri": "https://localhost:8080/"
        },
        "id": "pQbbHNqBT-zv",
        "outputId": "e88d4e68-42c2-44bf-f952-3cf4a5da25b9"
      },
      "execution_count": 30,
      "outputs": [
        {
          "output_type": "execute_result",
          "data": {
            "text/plain": [
              "[[{'label': 'anger', 'score': 0.8491377234458923},\n",
              "  {'label': 'annoyance', 'score': 0.1263130009174347},\n",
              "  {'label': 'neutral', 'score': 0.04877083748579025},\n",
              "  {'label': 'disapproval', 'score': 0.039276327937841415},\n",
              "  {'label': 'disgust', 'score': 0.022708062082529068},\n",
              "  {'label': 'sadness', 'score': 0.01142342109233141},\n",
              "  {'label': 'disappointment', 'score': 0.008590910583734512},\n",
              "  {'label': 'curiosity', 'score': 0.00796362292021513},\n",
              "  {'label': 'admiration', 'score': 0.007152436301112175},\n",
              "  {'label': 'confusion', 'score': 0.0069870054721832275},\n",
              "  {'label': 'love', 'score': 0.0060971202328801155},\n",
              "  {'label': 'approval', 'score': 0.0055946665816009045},\n",
              "  {'label': 'caring', 'score': 0.003963040187954903},\n",
              "  {'label': 'realization', 'score': 0.003732789773494005},\n",
              "  {'label': 'gratitude', 'score': 0.003116440726444125},\n",
              "  {'label': 'fear', 'score': 0.003101562848314643},\n",
              "  {'label': 'amusement', 'score': 0.003008207306265831},\n",
              "  {'label': 'optimism', 'score': 0.0029863561503589153},\n",
              "  {'label': 'surprise', 'score': 0.0029241626616567373},\n",
              "  {'label': 'joy', 'score': 0.002846824238076806},\n",
              "  {'label': 'embarrassment', 'score': 0.002411764580756426},\n",
              "  {'label': 'excitement', 'score': 0.0020775452721863985},\n",
              "  {'label': 'desire', 'score': 0.0017085083527490497},\n",
              "  {'label': 'remorse', 'score': 0.0016628773882985115},\n",
              "  {'label': 'grief', 'score': 0.0013459662441164255},\n",
              "  {'label': 'nervousness', 'score': 0.0006237808847799897},\n",
              "  {'label': 'pride', 'score': 0.0005848101573064923},\n",
              "  {'label': 'relief', 'score': 0.0003253254108130932}]]"
            ]
          },
          "metadata": {},
          "execution_count": 30
        }
      ]
    },
    {
      "cell_type": "markdown",
      "source": [
        "## Task 2: Summarization"
      ],
      "metadata": {
        "id": "3BFOqhHZUNsW"
      }
    },
    {
      "cell_type": "code",
      "source": [
        "summarizer = pipeline(task=\"summarization\", model=\"facebook/bart-large-cnn\")"
      ],
      "metadata": {
        "id": "nXjXb7ntUPQp"
      },
      "execution_count": 31,
      "outputs": []
    },
    {
      "cell_type": "code",
      "source": [
        "text = \"\"\"\n",
        "The formation of Earth, like that of other planets in our solar system, is believed to have begun approximately 4.6 billion years ago,\n",
        "as a result of the gravitational collapse of a giant molecular cloud. This cloud, composed primarily of hydrogen and helium,\n",
        "began to contract under its own gravity, leading to the formation of a spinning disk known as the solar nebula. Within this disk,\n",
        "particles began to collide and stick together, forming larger and larger bodies called planetesimals. Over time, these planetesimals\n",
        "collided and merged to form protoplanets, one of which was Earth. The process of Earth's formation involved the differentiation of materials,\n",
        "with heavier elements sinking to the core and lighter elements rising to the surface. This differentiation, along with the accumulation of\n",
        "gases from the solar nebula, led to the formation of Earth's distinct layers: the core, mantle, and crust. Eventually, Earth became a rocky\n",
        "planet capable of supporting life, making it a unique and precious world in our solar system.\"\"\""
      ],
      "metadata": {
        "id": "akwX1VYzUYKS"
      },
      "execution_count": 32,
      "outputs": []
    },
    {
      "cell_type": "code",
      "source": [
        "summarized_text = summarizer(text, min_length=5, max_length=100)[0]['summary_text']\n",
        "summarized_text"
      ],
      "metadata": {
        "colab": {
          "base_uri": "https://localhost:8080/",
          "height": 53
        },
        "id": "DsLpXEFjUuE1",
        "outputId": "d34a5881-b0ce-4bfd-876c-89c5b11cb03e"
      },
      "execution_count": 33,
      "outputs": [
        {
          "output_type": "execute_result",
          "data": {
            "text/plain": [
              "'The formation of Earth is believed to have begun approximately 4.6 billion years ago. The process involved the differentiation of materials, with heavier elements sinking to the core and lighter elements rising to the surface. Eventually, Earth became a rocky planet capable of supporting life, making it a unique world in our solar system.'"
            ],
            "application/vnd.google.colaboratory.intrinsic+json": {
              "type": "string"
            }
          },
          "metadata": {},
          "execution_count": 33
        }
      ]
    },
    {
      "cell_type": "markdown",
      "source": [
        "### Summarization + Sentiment Analysis"
      ],
      "metadata": {
        "id": "w0KDh6xDVaO8"
      }
    },
    {
      "cell_type": "code",
      "source": [
        "clf(summarized_text)"
      ],
      "metadata": {
        "colab": {
          "base_uri": "https://localhost:8080/"
        },
        "id": "7ag8uGXJVaCY",
        "outputId": "975e2a88-2690-43ae-a5ad-e97a1d4c7cd9"
      },
      "execution_count": 34,
      "outputs": [
        {
          "output_type": "execute_result",
          "data": {
            "text/plain": [
              "[[{'label': 'neutral', 'score': 0.4409255087375641},\n",
              "  {'label': 'approval', 'score': 0.2639855742454529},\n",
              "  {'label': 'realization', 'score': 0.16862817108631134},\n",
              "  {'label': 'admiration', 'score': 0.025509275496006012},\n",
              "  {'label': 'optimism', 'score': 0.015103871002793312},\n",
              "  {'label': 'confusion', 'score': 0.013980291783809662},\n",
              "  {'label': 'curiosity', 'score': 0.012717019766569138},\n",
              "  {'label': 'surprise', 'score': 0.009956764988601208},\n",
              "  {'label': 'excitement', 'score': 0.007755840662866831},\n",
              "  {'label': 'joy', 'score': 0.0032196003012359142},\n",
              "  {'label': 'annoyance', 'score': 0.0029338065069168806},\n",
              "  {'label': 'disappointment', 'score': 0.002780117094516754},\n",
              "  {'label': 'disapproval', 'score': 0.0023551862686872482},\n",
              "  {'label': 'desire', 'score': 0.002175673143938184},\n",
              "  {'label': 'amusement', 'score': 0.002042025327682495},\n",
              "  {'label': 'sadness', 'score': 0.001815926400013268},\n",
              "  {'label': 'relief', 'score': 0.0017923222621902823},\n",
              "  {'label': 'love', 'score': 0.0017433436587452888},\n",
              "  {'label': 'disgust', 'score': 0.00149903679266572},\n",
              "  {'label': 'pride', 'score': 0.0012939255684614182},\n",
              "  {'label': 'fear', 'score': 0.0012745842104777694},\n",
              "  {'label': 'caring', 'score': 0.0012208627304062247},\n",
              "  {'label': 'nervousness', 'score': 0.0010214385110884905},\n",
              "  {'label': 'gratitude', 'score': 0.0009064871701411903},\n",
              "  {'label': 'embarrassment', 'score': 0.0008996975375339389},\n",
              "  {'label': 'grief', 'score': 0.0005241052713245153},\n",
              "  {'label': 'remorse', 'score': 0.00046238364302553236},\n",
              "  {'label': 'anger', 'score': 0.0004355061682872474}]]"
            ]
          },
          "metadata": {},
          "execution_count": 34
        }
      ]
    },
    {
      "cell_type": "markdown",
      "source": [
        "## Task 3: Conversational"
      ],
      "metadata": {
        "id": "rZYG60QoVRrW"
      }
    },
    {
      "cell_type": "code",
      "source": [
        "ChatBot = pipeline(model=\"facebook/blenderbot-400M-distill\")"
      ],
      "metadata": {
        "id": "tE-uxy-IU6la"
      },
      "execution_count": 35,
      "outputs": []
    },
    {
      "cell_type": "code",
      "source": [
        "conversation = 'Hi I am Ebad, how are you?'\n",
        "conversation = ChatBot(conversation)\n",
        "conversation"
      ],
      "metadata": {
        "colab": {
          "base_uri": "https://localhost:8080/"
        },
        "id": "7MeXwAHmVx27",
        "outputId": "2856a6be-b8f2-44e4-ae6d-b2ff61e56a80"
      },
      "execution_count": 36,
      "outputs": [
        {
          "output_type": "execute_result",
          "data": {
            "text/plain": [
              "[{'generated_text': ' I am doing well. How are you doing this evening? I am just relaxing.'}]"
            ]
          },
          "metadata": {},
          "execution_count": 36
        }
      ]
    },
    {
      "cell_type": "markdown",
      "source": [
        "### ChatBot UI with Gradio"
      ],
      "metadata": {
        "id": "E3aHNyo6XJLH"
      }
    },
    {
      "cell_type": "code",
      "source": [
        "!pip install gradio\n",
        "from transformers import Conversation\n",
        "import gradio as gr"
      ],
      "metadata": {
        "colab": {
          "base_uri": "https://localhost:8080/"
        },
        "id": "mllcBw62Xdz0",
        "outputId": "1cdb298b-1b83-40f2-d57c-5551f0ddb687"
      },
      "execution_count": 37,
      "outputs": [
        {
          "output_type": "stream",
          "name": "stdout",
          "text": [
            "Requirement already satisfied: gradio in /usr/local/lib/python3.10/dist-packages (4.26.0)\n",
            "Requirement already satisfied: aiofiles<24.0,>=22.0 in /usr/local/lib/python3.10/dist-packages (from gradio) (23.2.1)\n",
            "Requirement already satisfied: altair<6.0,>=4.2.0 in /usr/local/lib/python3.10/dist-packages (from gradio) (4.2.2)\n",
            "Requirement already satisfied: fastapi in /usr/local/lib/python3.10/dist-packages (from gradio) (0.110.1)\n",
            "Requirement already satisfied: ffmpy in /usr/local/lib/python3.10/dist-packages (from gradio) (0.3.2)\n",
            "Requirement already satisfied: gradio-client==0.15.1 in /usr/local/lib/python3.10/dist-packages (from gradio) (0.15.1)\n",
            "Requirement already satisfied: httpx>=0.24.1 in /usr/local/lib/python3.10/dist-packages (from gradio) (0.27.0)\n",
            "Requirement already satisfied: huggingface-hub>=0.19.3 in /usr/local/lib/python3.10/dist-packages (from gradio) (0.20.3)\n",
            "Requirement already satisfied: importlib-resources<7.0,>=1.3 in /usr/local/lib/python3.10/dist-packages (from gradio) (6.4.0)\n",
            "Requirement already satisfied: jinja2<4.0 in /usr/local/lib/python3.10/dist-packages (from gradio) (3.1.3)\n",
            "Requirement already satisfied: markupsafe~=2.0 in /usr/local/lib/python3.10/dist-packages (from gradio) (2.1.5)\n",
            "Requirement already satisfied: matplotlib~=3.0 in /usr/local/lib/python3.10/dist-packages (from gradio) (3.7.1)\n",
            "Requirement already satisfied: numpy~=1.0 in /usr/local/lib/python3.10/dist-packages (from gradio) (1.25.2)\n",
            "Requirement already satisfied: orjson~=3.0 in /usr/local/lib/python3.10/dist-packages (from gradio) (3.10.0)\n",
            "Requirement already satisfied: packaging in /usr/local/lib/python3.10/dist-packages (from gradio) (24.0)\n",
            "Requirement already satisfied: pandas<3.0,>=1.0 in /usr/local/lib/python3.10/dist-packages (from gradio) (2.0.3)\n",
            "Requirement already satisfied: pillow<11.0,>=8.0 in /usr/local/lib/python3.10/dist-packages (from gradio) (9.4.0)\n",
            "Requirement already satisfied: pydantic>=2.0 in /usr/local/lib/python3.10/dist-packages (from gradio) (2.6.4)\n",
            "Requirement already satisfied: pydub in /usr/local/lib/python3.10/dist-packages (from gradio) (0.25.1)\n",
            "Requirement already satisfied: python-multipart>=0.0.9 in /usr/local/lib/python3.10/dist-packages (from gradio) (0.0.9)\n",
            "Requirement already satisfied: pyyaml<7.0,>=5.0 in /usr/local/lib/python3.10/dist-packages (from gradio) (6.0.1)\n",
            "Requirement already satisfied: ruff>=0.2.2 in /usr/local/lib/python3.10/dist-packages (from gradio) (0.3.7)\n",
            "Requirement already satisfied: semantic-version~=2.0 in /usr/local/lib/python3.10/dist-packages (from gradio) (2.10.0)\n",
            "Requirement already satisfied: tomlkit==0.12.0 in /usr/local/lib/python3.10/dist-packages (from gradio) (0.12.0)\n",
            "Requirement already satisfied: typer[all]<1.0,>=0.9 in /usr/local/lib/python3.10/dist-packages (from gradio) (0.9.4)\n",
            "Requirement already satisfied: typing-extensions~=4.0 in /usr/local/lib/python3.10/dist-packages (from gradio) (4.11.0)\n",
            "Requirement already satisfied: uvicorn>=0.14.0 in /usr/local/lib/python3.10/dist-packages (from gradio) (0.29.0)\n",
            "Requirement already satisfied: fsspec in /usr/local/lib/python3.10/dist-packages (from gradio-client==0.15.1->gradio) (2023.6.0)\n",
            "Requirement already satisfied: websockets<12.0,>=10.0 in /usr/local/lib/python3.10/dist-packages (from gradio-client==0.15.1->gradio) (11.0.3)\n",
            "Requirement already satisfied: entrypoints in /usr/local/lib/python3.10/dist-packages (from altair<6.0,>=4.2.0->gradio) (0.4)\n",
            "Requirement already satisfied: jsonschema>=3.0 in /usr/local/lib/python3.10/dist-packages (from altair<6.0,>=4.2.0->gradio) (4.19.2)\n",
            "Requirement already satisfied: toolz in /usr/local/lib/python3.10/dist-packages (from altair<6.0,>=4.2.0->gradio) (0.12.1)\n",
            "Requirement already satisfied: anyio in /usr/local/lib/python3.10/dist-packages (from httpx>=0.24.1->gradio) (3.7.1)\n",
            "Requirement already satisfied: certifi in /usr/local/lib/python3.10/dist-packages (from httpx>=0.24.1->gradio) (2024.2.2)\n",
            "Requirement already satisfied: httpcore==1.* in /usr/local/lib/python3.10/dist-packages (from httpx>=0.24.1->gradio) (1.0.5)\n",
            "Requirement already satisfied: idna in /usr/local/lib/python3.10/dist-packages (from httpx>=0.24.1->gradio) (3.6)\n",
            "Requirement already satisfied: sniffio in /usr/local/lib/python3.10/dist-packages (from httpx>=0.24.1->gradio) (1.3.1)\n",
            "Requirement already satisfied: h11<0.15,>=0.13 in /usr/local/lib/python3.10/dist-packages (from httpcore==1.*->httpx>=0.24.1->gradio) (0.14.0)\n",
            "Requirement already satisfied: filelock in /usr/local/lib/python3.10/dist-packages (from huggingface-hub>=0.19.3->gradio) (3.13.4)\n",
            "Requirement already satisfied: requests in /usr/local/lib/python3.10/dist-packages (from huggingface-hub>=0.19.3->gradio) (2.31.0)\n",
            "Requirement already satisfied: tqdm>=4.42.1 in /usr/local/lib/python3.10/dist-packages (from huggingface-hub>=0.19.3->gradio) (4.66.2)\n",
            "Requirement already satisfied: contourpy>=1.0.1 in /usr/local/lib/python3.10/dist-packages (from matplotlib~=3.0->gradio) (1.2.1)\n",
            "Requirement already satisfied: cycler>=0.10 in /usr/local/lib/python3.10/dist-packages (from matplotlib~=3.0->gradio) (0.12.1)\n",
            "Requirement already satisfied: fonttools>=4.22.0 in /usr/local/lib/python3.10/dist-packages (from matplotlib~=3.0->gradio) (4.51.0)\n",
            "Requirement already satisfied: kiwisolver>=1.0.1 in /usr/local/lib/python3.10/dist-packages (from matplotlib~=3.0->gradio) (1.4.5)\n",
            "Requirement already satisfied: pyparsing>=2.3.1 in /usr/local/lib/python3.10/dist-packages (from matplotlib~=3.0->gradio) (3.1.2)\n",
            "Requirement already satisfied: python-dateutil>=2.7 in /usr/local/lib/python3.10/dist-packages (from matplotlib~=3.0->gradio) (2.8.2)\n",
            "Requirement already satisfied: pytz>=2020.1 in /usr/local/lib/python3.10/dist-packages (from pandas<3.0,>=1.0->gradio) (2023.4)\n",
            "Requirement already satisfied: tzdata>=2022.1 in /usr/local/lib/python3.10/dist-packages (from pandas<3.0,>=1.0->gradio) (2024.1)\n",
            "Requirement already satisfied: annotated-types>=0.4.0 in /usr/local/lib/python3.10/dist-packages (from pydantic>=2.0->gradio) (0.6.0)\n",
            "Requirement already satisfied: pydantic-core==2.16.3 in /usr/local/lib/python3.10/dist-packages (from pydantic>=2.0->gradio) (2.16.3)\n",
            "Requirement already satisfied: click<9.0.0,>=7.1.1 in /usr/local/lib/python3.10/dist-packages (from typer[all]<1.0,>=0.9->gradio) (8.1.7)\n",
            "Requirement already satisfied: colorama<0.5.0,>=0.4.3 in /usr/local/lib/python3.10/dist-packages (from typer[all]<1.0,>=0.9->gradio) (0.4.6)\n",
            "Requirement already satisfied: shellingham<2.0.0,>=1.3.0 in /usr/local/lib/python3.10/dist-packages (from typer[all]<1.0,>=0.9->gradio) (1.5.4)\n",
            "Requirement already satisfied: rich<14.0.0,>=10.11.0 in /usr/local/lib/python3.10/dist-packages (from typer[all]<1.0,>=0.9->gradio) (13.7.1)\n",
            "Requirement already satisfied: starlette<0.38.0,>=0.37.2 in /usr/local/lib/python3.10/dist-packages (from fastapi->gradio) (0.37.2)\n",
            "Requirement already satisfied: attrs>=22.2.0 in /usr/local/lib/python3.10/dist-packages (from jsonschema>=3.0->altair<6.0,>=4.2.0->gradio) (23.2.0)\n",
            "Requirement already satisfied: jsonschema-specifications>=2023.03.6 in /usr/local/lib/python3.10/dist-packages (from jsonschema>=3.0->altair<6.0,>=4.2.0->gradio) (2023.12.1)\n",
            "Requirement already satisfied: referencing>=0.28.4 in /usr/local/lib/python3.10/dist-packages (from jsonschema>=3.0->altair<6.0,>=4.2.0->gradio) (0.34.0)\n",
            "Requirement already satisfied: rpds-py>=0.7.1 in /usr/local/lib/python3.10/dist-packages (from jsonschema>=3.0->altair<6.0,>=4.2.0->gradio) (0.18.0)\n",
            "Requirement already satisfied: six>=1.5 in /usr/local/lib/python3.10/dist-packages (from python-dateutil>=2.7->matplotlib~=3.0->gradio) (1.16.0)\n",
            "Requirement already satisfied: markdown-it-py>=2.2.0 in /usr/local/lib/python3.10/dist-packages (from rich<14.0.0,>=10.11.0->typer[all]<1.0,>=0.9->gradio) (3.0.0)\n",
            "Requirement already satisfied: pygments<3.0.0,>=2.13.0 in /usr/local/lib/python3.10/dist-packages (from rich<14.0.0,>=10.11.0->typer[all]<1.0,>=0.9->gradio) (2.16.1)\n",
            "Requirement already satisfied: exceptiongroup in /usr/local/lib/python3.10/dist-packages (from anyio->httpx>=0.24.1->gradio) (1.2.0)\n",
            "Requirement already satisfied: charset-normalizer<4,>=2 in /usr/local/lib/python3.10/dist-packages (from requests->huggingface-hub>=0.19.3->gradio) (3.3.2)\n",
            "Requirement already satisfied: urllib3<3,>=1.21.1 in /usr/local/lib/python3.10/dist-packages (from requests->huggingface-hub>=0.19.3->gradio) (2.0.7)\n",
            "Requirement already satisfied: mdurl~=0.1 in /usr/local/lib/python3.10/dist-packages (from markdown-it-py>=2.2.0->rich<14.0.0,>=10.11.0->typer[all]<1.0,>=0.9->gradio) (0.1.2)\n"
          ]
        }
      ]
    },
    {
      "cell_type": "markdown",
      "source": [
        "### Sentiment ChatBot"
      ],
      "metadata": {
        "id": "k849AQY5XsW8"
      }
    },
    {
      "cell_type": "code",
      "source": [
        "def top3_text_classes(message, history):\n",
        "    return str(clf(message)[0][:3]).replace('}, {', '\\n').replace('[{', '').replace('}]', '')\n",
        "\n",
        "demo_sentiment = gr.ChatInterface(top3_text_classes, title=\"Text Sentiment Chatbot\", description=\"Enter your text, and the chatbot will classify the sentiment.\")\n",
        "\n",
        "demo_sentiment.launch()"
      ],
      "metadata": {
        "colab": {
          "base_uri": "https://localhost:8080/",
          "height": 626
        },
        "id": "N_oLQT3wWgfz",
        "outputId": "03cc8e0b-d954-4880-8a86-7eee5b206690"
      },
      "execution_count": 38,
      "outputs": [
        {
          "output_type": "stream",
          "name": "stdout",
          "text": [
            "Setting queue=True in a Colab notebook requires sharing enabled. Setting `share=True` (you can turn this off by setting `share=False` in `launch()` explicitly).\n",
            "\n",
            "Colab notebook detected. To show errors in colab notebook, set debug=True in launch()\n",
            "Running on public URL: https://03bda4fe31fee2d191.gradio.live\n",
            "\n",
            "This share link expires in 72 hours. For free permanent hosting and GPU upgrades, run `gradio deploy` from Terminal to deploy to Spaces (https://huggingface.co/spaces)\n"
          ]
        },
        {
          "output_type": "display_data",
          "data": {
            "text/plain": [
              "<IPython.core.display.HTML object>"
            ],
            "text/html": [
              "<div><iframe src=\"https://03bda4fe31fee2d191.gradio.live\" width=\"100%\" height=\"500\" allow=\"autoplay; camera; microphone; clipboard-read; clipboard-write;\" frameborder=\"0\" allowfullscreen></iframe></div>"
            ]
          },
          "metadata": {}
        },
        {
          "output_type": "execute_result",
          "data": {
            "text/plain": []
          },
          "metadata": {},
          "execution_count": 38
        }
      ]
    },
    {
      "cell_type": "markdown",
      "source": [
        "### Summarizer ChatBot"
      ],
      "metadata": {
        "id": "rXW8zaiOXweM"
      }
    },
    {
      "cell_type": "code",
      "source": [
        "def summarizer_bot(message, history):\n",
        "    return summarizer(message, min_length=5, max_length=140)[0]['summary_text']\n",
        "\n",
        "demo_summarizer = gr.ChatInterface(summarizer_bot, title=\"Summarizer Chatbot\", description=\"Enter your text, and the chatbot will return the summarized version.\")\n",
        "\n",
        "demo_summarizer.launch()"
      ],
      "metadata": {
        "colab": {
          "base_uri": "https://localhost:8080/",
          "height": 626
        },
        "id": "jbWLpnA8XnsI",
        "outputId": "ff490fd5-966e-4459-b787-345c4c0ad5ab"
      },
      "execution_count": 39,
      "outputs": [
        {
          "output_type": "stream",
          "name": "stdout",
          "text": [
            "Setting queue=True in a Colab notebook requires sharing enabled. Setting `share=True` (you can turn this off by setting `share=False` in `launch()` explicitly).\n",
            "\n",
            "Colab notebook detected. To show errors in colab notebook, set debug=True in launch()\n",
            "Running on public URL: https://7c9457252aeaeaf702.gradio.live\n",
            "\n",
            "This share link expires in 72 hours. For free permanent hosting and GPU upgrades, run `gradio deploy` from Terminal to deploy to Spaces (https://huggingface.co/spaces)\n"
          ]
        },
        {
          "output_type": "display_data",
          "data": {
            "text/plain": [
              "<IPython.core.display.HTML object>"
            ],
            "text/html": [
              "<div><iframe src=\"https://7c9457252aeaeaf702.gradio.live\" width=\"100%\" height=\"500\" allow=\"autoplay; camera; microphone; clipboard-read; clipboard-write;\" frameborder=\"0\" allowfullscreen></iframe></div>"
            ]
          },
          "metadata": {}
        },
        {
          "output_type": "execute_result",
          "data": {
            "text/plain": []
          },
          "metadata": {},
          "execution_count": 39
        }
      ]
    },
    {
      "cell_type": "markdown",
      "source": [
        "### ChatBot"
      ],
      "metadata": {
        "id": "QmD1dF8DYKJK"
      }
    },
    {
      "cell_type": "code",
      "source": [
        "message_list = []\n",
        "response_list = []\n",
        "\n",
        "def vanilla_chatbot(message, history):\n",
        "    conversation = ChatBot(message)\n",
        "\n",
        "    return conversation[0]['generated_text']\n",
        "\n",
        "demo_chatbot = gr.ChatInterface(vanilla_chatbot, title=\"Chatbot\", description=\"Enter text to start chatting.\")\n",
        "\n",
        "demo_chatbot.launch()"
      ],
      "metadata": {
        "colab": {
          "base_uri": "https://localhost:8080/",
          "height": 626
        },
        "id": "lVgbZdW1XoJr",
        "outputId": "ccfbf52c-f65c-40ff-be9c-b28b0c941190"
      },
      "execution_count": 40,
      "outputs": [
        {
          "output_type": "stream",
          "name": "stdout",
          "text": [
            "Setting queue=True in a Colab notebook requires sharing enabled. Setting `share=True` (you can turn this off by setting `share=False` in `launch()` explicitly).\n",
            "\n",
            "Colab notebook detected. To show errors in colab notebook, set debug=True in launch()\n",
            "Running on public URL: https://628c57999a1446c760.gradio.live\n",
            "\n",
            "This share link expires in 72 hours. For free permanent hosting and GPU upgrades, run `gradio deploy` from Terminal to deploy to Spaces (https://huggingface.co/spaces)\n"
          ]
        },
        {
          "output_type": "display_data",
          "data": {
            "text/plain": [
              "<IPython.core.display.HTML object>"
            ],
            "text/html": [
              "<div><iframe src=\"https://628c57999a1446c760.gradio.live\" width=\"100%\" height=\"500\" allow=\"autoplay; camera; microphone; clipboard-read; clipboard-write;\" frameborder=\"0\" allowfullscreen></iframe></div>"
            ]
          },
          "metadata": {}
        },
        {
          "output_type": "execute_result",
          "data": {
            "text/plain": []
          },
          "metadata": {},
          "execution_count": 40
        }
      ]
    },
    {
      "cell_type": "code",
      "source": [],
      "metadata": {
        "id": "pQpe8mWVYLrk"
      },
      "execution_count": 40,
      "outputs": []
    }
  ]
}